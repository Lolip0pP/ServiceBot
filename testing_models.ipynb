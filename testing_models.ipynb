{
 "cells": [
  {
   "cell_type": "code",
   "execution_count": null,
   "metadata": {},
   "outputs": [],
   "source": [
    "# %pip install hdbscan\n",
    "# %pip install hdbscan-with-cosine-distance\n",
    "# %pip install gmsdb"
   ]
  },
  {
   "cell_type": "code",
   "execution_count": 22,
   "metadata": {},
   "outputs": [
    {
     "name": "stdout",
     "output_type": "stream",
     "text": [
      "Вопрос: Директум Коллеги, добрый день,      Прошу разблокировать учетную запись.      \n",
      "  Ответ: Для выдачи нового оборудования вам необходимо оформить обращение по ссылке: - Сходство: 0.1379\n",
      "  Ответ: Для получения SIM-карты и других манипуляций, касающихся мобильной связи, заполните заявку по ссылке: - Сходство: 0.1504\n",
      "  Ответ: Для получения поддержки по программному обеспечению заполните заявку по ссылке: - Сходство: 0.2005\n",
      "  Ответ: Для установки драйверов для МФУ заполните заявку по ссылке: - Сходство: 0.0596\n",
      "  Ответ: Для передачи оборудования оформите заявку по ссылке: - Сходство: 0.1167\n",
      "  Ответ: Для решения проблемы с IT-оборудованием обратитесь по ссылке: - Сходство: 0.2426\n",
      "  Ответ: Для бронирования временного оборудования заполните заявку по ссылке: - Сходство: 0.1885\n",
      "  Ответ: Для организации поддержки мероприятия заполните заявку по ссылке: - Сходство: 0.2481\n",
      "  Ответ: Для обслуживания принтера заполните заявку по ссылке: - Сходство: 0.1120\n",
      "  Ответ: Для получения доступа к Консультант Плюс оформите заявку по ссылке: - Сходство: 0.2265\n",
      "  Ответ: При выявлении ошибок в работе робота (макроса) оформите обращение по ссылке: - Сходство: 0.2169\n",
      "  Ответ: Для запроса ролей в BMS заполните заявку ниже: - Сходство: 0.1301\n",
      "  Ответ: Оформите обращение в команду поддержки Directum: - Сходство: 0.3723\n",
      "  Ответ: Поднимите данный запрос, если необходимо разработать новый ЗНО, доработать уже существующее решение на платформе ELMA365 - Сходство: 0.1583\n",
      "  Ответ: Для запроса ролей в SAP Prod (R9*) заполните заявку ниже: - Сходство: 0.0802\n",
      "  Ответ: Для сброса пароля в Local SAP Prod (R9*) заполните заявку ниже: - Сходство: 0.4279\n",
      "  Ответ: Для запроса ролей в SAP non-Prod (R5*, R8*) заполните заявку ниже: - Сходство: 0.0828\n",
      "  Ответ: Для сброса пароля в Local SAP non-Prod (R5*, R8*) заполните заявку ниже: - Сходство: 0.4297\n",
      "  Ответ: Использование некорпоративных мессенджеров запрещено. - Сходство: 0.3494\n",
      "  Ответ: Приложите скриншот ошибки, пожалуйста. - Сходство: 0.4116\n",
      "  Ответ: Уточните номер заявки, пожалуйста. - Сходство: 0.3609\n",
      "Для сброса пароля в Local SAP non-Prod (R5*, R8*) заполните заявку ниже:\n"
     ]
    }
   ],
   "source": [
    "import pandas as pd\n",
    "from sentence_transformers import SentenceTransformer\n",
    "\n",
    "# Загрузка модели\n",
    "model = SentenceTransformer(\"./sentence_bert_service_desk_model\")\n",
    "\n",
    "# Новые сообщения для тестирования\n",
    "new_questions = [\"Директум Коллеги, добрый день, \\r\\n\\r\\n \\r\\n\\r\\nПрошу разблокировать учетную запись.\\r\\n\\r\\n \\r\\n\\r\\n\\r\\n\"]\n",
    "\n",
    "# Преобразование вопросов в векторы\n",
    "question_embeddings = model.encode(new_questions)\n",
    "\n",
    "# Пример ответов (можно заменить на реальные данные)\n",
    "df = pd.read_excel(\"TEMPLATES.xlsx\")\n",
    "new_answers = df['Текст'].tolist()\n",
    "\n",
    "# Преобразование ответов в векторы\n",
    "answer_embeddings = model.encode(new_answers)\n",
    "\n",
    "# Теперь вы можете использовать cosine similarity или другую меру для оценки схожести между вопросами и ответами.\n",
    "from sklearn.metrics.pairwise import cosine_similarity\n",
    "\n",
    "# Вычисление схожести\n",
    "similarity_matrix = cosine_similarity(question_embeddings, answer_embeddings)\n",
    "\n",
    "m, im = 0, \"err\"\n",
    "# Вывод результатов\n",
    "for i, question in enumerate(new_questions):\n",
    "    question = question.replace(\"\\r\\n\", \" \")\n",
    "    print(f\"Вопрос: {question}\")\n",
    "    for j, answer in enumerate(new_answers):\n",
    "        temp = similarity_matrix[i][j]\n",
    "        print(f\"  Ответ: {answer} - Сходство: {temp:.4f}\")\n",
    "        if temp > m:\n",
    "            m, im = temp, answer\n",
    "\n",
    "print(im)"
   ]
  },
  {
   "cell_type": "code",
   "execution_count": 6,
   "metadata": {},
   "outputs": [
    {
     "data": {
      "text/plain": [
       "array([0.2322748 , 0.18986107, 0.41250625, 0.42545882, 0.24567792,\n",
       "       0.29717457, 0.23398831, 0.34684938, 0.28971964, 0.27187416,\n",
       "       0.29851446, 0.13433036, 0.4615872 , 0.19820532, 0.1431424 ,\n",
       "       0.1616571 , 0.13558894, 0.15938291], dtype=float32)"
      ]
     },
     "execution_count": 6,
     "metadata": {},
     "output_type": "execute_result"
    }
   ],
   "source": [
    "similarity_matrix[0]"
   ]
  },
  {
   "cell_type": "code",
   "execution_count": 2,
   "metadata": {},
   "outputs": [],
   "source": [
    "query = \"Здравствуйте, просьба сбросить пароль от моего аккаунта в SAP (ERP MONO) – остановилась работа. Оба ваших портала заблокированы, просьба принять запрос по почте.\"\n",
    "query_embeddings = model.encode(query)"
   ]
  },
  {
   "cell_type": "code",
   "execution_count": 3,
   "metadata": {},
   "outputs": [
    {
     "name": "stderr",
     "output_type": "stream",
     "text": [
      "Encoding texts: 100%|██████████| 4/4 [00:09<00:00,  2.34s/it]\n"
     ]
    }
   ],
   "source": [
    "from tqdm import tqdm\n",
    "import numpy as np\n",
    "\n",
    "# Включаем tqdm для визуализации\n",
    "def encode_with_progress(model, texts, batch_size=32):\n",
    "    embeddings = []\n",
    "    for i in tqdm(range(0, len(texts), batch_size), desc=\"Encoding texts\", ncols=100, dynamic_ncols=True):\n",
    "        batch = texts[i:i + batch_size]\n",
    "        batch_embeddings = model.encode(batch, show_progress_bar=False)\n",
    "        embeddings.extend(batch_embeddings)\n",
    "    return np.array(embeddings)\n",
    "\n",
    "a = pd.read_csv(\"answers.csv\", encoding=\"utf-16\")[\"1\"]\n",
    "n = 128\n",
    "a = a[:n]\n",
    "embeddings = encode_with_progress(model, [str(a[i]) if a[i] is not None else \"\" for i in range(n)])"
   ]
  },
  {
   "cell_type": "code",
   "execution_count": null,
   "metadata": {},
   "outputs": [],
   "source": [
    "embeddings[0] = model.encode(\"Добрый день, попробуйте перейти по данной ссылке на it портал ELMA365 . В случае ее недоступности, примем запрос через почту. \")"
   ]
  },
  {
   "cell_type": "code",
   "execution_count": 4,
   "metadata": {},
   "outputs": [
    {
     "name": "stdout",
     "output_type": "stream",
     "text": [
      "[{'corpus_id': 77, 'score': 0.7897090911865234}, {'corpus_id': 106, 'score': 0.7615180611610413}, {'corpus_id': 76, 'score': 0.7534220218658447}, {'corpus_id': 19, 'score': 0.7369711399078369}, {'corpus_id': 2, 'score': 0.6573807001113892}, {'corpus_id': 3, 'score': 0.6280403137207031}, {'corpus_id': 35, 'score': 0.6160039305686951}, {'corpus_id': 99, 'score': 0.5998386144638062}, {'corpus_id': 51, 'score': 0.5995620489120483}, {'corpus_id': 75, 'score': 0.5953553318977356}]\n"
     ]
    }
   ],
   "source": [
    "from sentence_transformers import util\n",
    "\n",
    "print(util.semantic_search(query_embeddings, embeddings)[0])"
   ]
  },
  {
   "cell_type": "code",
   "execution_count": 5,
   "metadata": {},
   "outputs": [
    {
     "name": "stdout",
     "output_type": "stream",
     "text": [
      "\n",
      "Добрый день,Сброс пароля в локальном SAP можно запросить по данной форме.  \n"
     ]
    }
   ],
   "source": [
    "print(a[77])"
   ]
  },
  {
   "cell_type": "code",
   "execution_count": 1,
   "metadata": {},
   "outputs": [],
   "source": [
    "import pandas as pd\n",
    "\n",
    "q_emb = pd.read_csv(\"q_embeddings.csv\")"
   ]
  },
  {
   "cell_type": "code",
   "execution_count": 2,
   "metadata": {},
   "outputs": [
    {
     "name": "stderr",
     "output_type": "stream",
     "text": [
      "100%|██████████| 29417/29417 [00:58<00:00, 499.80it/s]\n"
     ]
    }
   ],
   "source": [
    "from tqdm import tqdm\n",
    "\n",
    "X = []\n",
    "for i in tqdm(range(29417)):\n",
    "    temp = [0]*768\n",
    "    for j in range(768):\n",
    "        temp[j] = float(q_emb[str(j)][i])\n",
    "    X.append(temp)"
   ]
  },
  {
   "cell_type": "code",
   "execution_count": null,
   "metadata": {},
   "outputs": [
    {
     "name": "stdout",
     "output_type": "stream",
     "text": [
      "C: 2 bic: 634425.7093905134\n",
      "C: 3 bic: 1467207.595406875\n",
      "C: 4 bic: 3857304.921816244\n",
      "C: 5 bic: 6218389.63595105\n",
      "C: 6 bic: 8313516.690532186\n",
      "C: 7 bic: 10639886.022891618\n",
      "C: 8 bic: 13107782.002648056\n",
      "C: 9 bic: 15557245.598458914\n",
      "C: 10 bic: 17894967.88878322\n",
      "C: 11 bic: 20301951.8923869\n",
      "C: 12 bic: 22608656.940031737\n",
      "C: 13 bic: 25061440.511142757\n",
      "C: 14 bic: 27480563.040786147\n",
      "C: 15 bic: 29528322.449963115\n",
      "C: 16 bic: 31776134.14324575\n",
      "C: 17 bic: 33777586.487431325\n",
      "C: 18 bic: 36500375.41634917\n",
      "C: 19 bic: 39436116.97129945\n",
      "C: 20 bic: 40869137.91725217\n",
      "C: 21 bic: 43094160.30816343\n",
      "C: 22 bic: 45855415.96038725\n",
      "C: 23 bic: 47441831.3417194\n",
      "C: 24 bic: 49961973.4432474\n",
      "C: 25 bic: 51318497.07164188\n",
      "C: 26 bic: 53310173.69681119\n",
      "C: 27 bic: 55611954.94114348\n",
      "C: 28 bic: 55836973.77422718\n",
      "C: 29 bic: 59047034.613239065\n",
      "C: 30 bic: 59993657.29394579\n",
      "C: 31 bic: 62292532.67820163\n",
      "C: 32 bic: 63706447.46887613\n",
      "C: 33 bic: 65579366.424692735\n",
      "C: 34 bic: 66212087.45207137\n",
      "C: 35 bic: 67367076.37599231\n",
      "C: 36 bic: 67947086.962082\n",
      "C: 37 bic: 70005645.79576726\n",
      "C: 38 bic: 73499870.63064083\n",
      "C: 39 bic: 72399435.26812622\n",
      "optbic: 2\n"
     ]
    }
   ],
   "source": [
    "import numpy as np\n",
    "from gmsdb import GMSDB\n",
    "\n",
    "clf = GMSDB(\n",
    "    n_components=40,\n",
    "    # min_components=2,\n",
    "    # step_components=100,\n",
    "    # rand_search=1000,\n",
    "    # rand_level=0.5,\n",
    "    verbose=True,\n",
    "    show=True,\n",
    ")\n",
    "Yp = clf.fit_predict(np.array(X))"
   ]
  },
  {
   "cell_type": "code",
   "execution_count": null,
   "metadata": {},
   "outputs": [],
   "source": [
    "print(len(clusters[clusters==-1]))\n",
    "print(len(clusters[clusters==0]))\n",
    "print(len(clusters[clusters==1]))"
   ]
  },
  {
   "cell_type": "code",
   "execution_count": 46,
   "metadata": {},
   "outputs": [],
   "source": [
    "import pandas as pd\n",
    "\n",
    "q = pd.read_csv(\"last_ye_q.csv\", encoding=\"utf-16\")\n",
    "a = pd.read_csv(\"last_ye_a.csv\", encoding=\"utf-16\")"
   ]
  },
  {
   "cell_type": "code",
   "execution_count": 48,
   "metadata": {},
   "outputs": [
    {
     "data": {
      "application/vnd.jupyter.widget-view+json": {
       "model_id": "ed0779488b52448faa9deb6cc2cda5f7",
       "version_major": 2,
       "version_minor": 0
      },
      "text/plain": [
       "Batches:   0%|          | 0/187 [00:00<?, ?it/s]"
      ]
     },
     "metadata": {},
     "output_type": "display_data"
    },
    {
     "data": {
      "application/vnd.jupyter.widget-view+json": {
       "model_id": "fcfc42e78e6e40169e1dabb2a6686e9e",
       "version_major": 2,
       "version_minor": 0
      },
      "text/plain": [
       "Batches:   0%|          | 0/187 [00:00<?, ?it/s]"
      ]
     },
     "metadata": {},
     "output_type": "display_data"
    }
   ],
   "source": [
    "from sklearn.cluster import DBSCAN\n",
    "from sklearn.metrics.pairwise import cosine_similarity\n",
    "from tqdm import tqdm\n",
    "from sentence_transformers import SentenceTransformer\n",
    "\n",
    "# Загрузка модели\n",
    "model = SentenceTransformer('./sentence_bert_service_desk_model')\n",
    "q_embeddings = model.encode(q[\"0\"], show_progress_bar=True)\n",
    "a_embeddings = model.encode(a[\"1\"], show_progress_bar=True)"
   ]
  },
  {
   "cell_type": "code",
   "execution_count": 57,
   "metadata": {},
   "outputs": [
    {
     "name": "stderr",
     "output_type": "stream",
     "text": [
      "100%|██████████| 5978/5978 [00:23<00:00, 254.79it/s]\n"
     ]
    }
   ],
   "source": [
    "from sentence_transformers import util\n",
    "\n",
    "bag = []\n",
    "qq = []\n",
    "for i in tqdm(range(len(q_embeddings))):\n",
    "    l = util.semantic_search(q_embeddings[i], a_embeddings)\n",
    "    temp = l[0][0]['corpus_id']\n",
    "    if temp not in bag:\n",
    "        bag.append(temp)\n",
    "        qq.append(q[\"0\"][i])"
   ]
  },
  {
   "cell_type": "code",
   "execution_count": 58,
   "metadata": {},
   "outputs": [
    {
     "data": {
      "text/plain": [
       "(' Ошибка в подключении Check Point\\xa0Добрый день!\\xa0Работаю из дома и выдает ошибку при подключении Check Point.Darya Fomina',\n",
       " ' check point issue\\xa0Коллеги, приветНе могу совсем подключить чек-пойнт при работе из дома, и создать тикет нормально тоже не могу.Ну и работать тоже не могу, поскольку тимс меня не идентифицирует и все прочие проблемы – паровозом.\\xa0Пыталась поставить другой сайт – стало еще хуже( \\xa0HEEELP\\xa0С уважением\\xa0Мария Беляева Nestle Russia/ Supply ChainСustomer Facing Supply Chain ManagerCell phone +7\\xa0916\\xa0153-19-22mailto:Mariya.Belyaeva@ru.nestle.com\\xa0')"
      ]
     },
     "execution_count": 58,
     "metadata": {},
     "output_type": "execute_result"
    }
   ],
   "source": [
    "qq[8], qq[11]"
   ]
  },
  {
   "cell_type": "code",
   "execution_count": 61,
   "metadata": {},
   "outputs": [
    {
     "data": {
      "text/plain": [
       "(4393, 5892)"
      ]
     },
     "execution_count": 61,
     "metadata": {},
     "output_type": "execute_result"
    }
   ],
   "source": [
    "bag[8], bag[11]"
   ]
  },
  {
   "cell_type": "code",
   "execution_count": 76,
   "metadata": {},
   "outputs": [
    {
     "name": "stderr",
     "output_type": "stream",
     "text": [
      "C:\\Users\\RUShulpiAn\\AppData\\Local\\Temp\\ipykernel_16464\\1484029725.py:5: FutureWarning: ChainedAssignmentError: behaviour will change in pandas 3.0!\n",
      "You are setting values through chained assignment. Currently this works in certain cases, but when using Copy-on-Write (which will become the default behaviour in pandas 3.0) this will never work to update the original DataFrame or Series, because the intermediate object on which we are setting values will behave as a copy.\n",
      "A typical example is when you are setting values in a column of a DataFrame, like:\n",
      "\n",
      "df[\"col\"][row_indexer] = value\n",
      "\n",
      "Use `df.loc[row_indexer, \"col\"] = values` instead, to perform the assignment in a single step and ensure this keeps updating the original `df`.\n",
      "\n",
      "See the caveats in the documentation: https://pandas.pydata.org/pandas-docs/stable/user_guide/indexing.html#returning-a-view-versus-a-copy\n",
      "\n",
      "  df[\"q\"][i] = temp\n",
      "C:\\Users\\RUShulpiAn\\AppData\\Local\\Temp\\ipykernel_16464\\1484029725.py:6: FutureWarning: ChainedAssignmentError: behaviour will change in pandas 3.0!\n",
      "You are setting values through chained assignment. Currently this works in certain cases, but when using Copy-on-Write (which will become the default behaviour in pandas 3.0) this will never work to update the original DataFrame or Series, because the intermediate object on which we are setting values will behave as a copy.\n",
      "A typical example is when you are setting values in a column of a DataFrame, like:\n",
      "\n",
      "df[\"col\"][row_indexer] = value\n",
      "\n",
      "Use `df.loc[row_indexer, \"col\"] = values` instead, to perform the assignment in a single step and ensure this keeps updating the original `df`.\n",
      "\n",
      "See the caveats in the documentation: https://pandas.pydata.org/pandas-docs/stable/user_guide/indexing.html#returning-a-view-versus-a-copy\n",
      "\n",
      "  df[\"a\"][i] = d[temp]\n"
     ]
    }
   ],
   "source": [
    "d = {qq[i]: a[\"0\"][bag[i]] for i in range(2015)}\n",
    "df = pd.DataFrame(columns=[\"q\", \"a\"], index=range(2015))\n",
    "for i in range(2015):\n",
    "    temp = list(d)[i]\n",
    "    df[\"q\"][i] = temp\n",
    "    df[\"a\"][i] = d[temp]\n",
    "df.to_csv(\"q-a_last_ye.csv\", index=False)"
   ]
  },
  {
   "cell_type": "code",
   "execution_count": 77,
   "metadata": {},
   "outputs": [
    {
     "data": {
      "text/html": [
       "<div>\n",
       "<style scoped>\n",
       "    .dataframe tbody tr th:only-of-type {\n",
       "        vertical-align: middle;\n",
       "    }\n",
       "\n",
       "    .dataframe tbody tr th {\n",
       "        vertical-align: top;\n",
       "    }\n",
       "\n",
       "    .dataframe thead th {\n",
       "        text-align: right;\n",
       "    }\n",
       "</style>\n",
       "<table border=\"1\" class=\"dataframe\">\n",
       "  <thead>\n",
       "    <tr style=\"text-align: right;\">\n",
       "      <th></th>\n",
       "      <th>q</th>\n",
       "      <th>a</th>\n",
       "    </tr>\n",
       "  </thead>\n",
       "  <tbody>\n",
       "    <tr>\n",
       "      <th>0</th>\n",
       "      <td>Об установке сертификата Webaccessagent ssl Д...</td>\n",
       "      <td>RE: Вопрос по работе веб-агента Directum</td>\n",
       "    </tr>\n",
       "    <tr>\n",
       "      <th>1</th>\n",
       "      <td>смена пароля Добрый день. Просьба помочь прой...</td>\n",
       "      <td>RE: Не дает сменить пароль, сегодня последний ...</td>\n",
       "    </tr>\n",
       "    <tr>\n",
       "      <th>2</th>\n",
       "      <td>Сброс пароля_КайзероваImportance: High Добрый...</td>\n",
       "      <td>RE: смена фамилии - Ткаченко на Авилову в ЦПБ ...</td>\n",
       "    </tr>\n",
       "    <tr>\n",
       "      <th>3</th>\n",
       "      <td>RE: Новый консультант Карен Гумеров Коллеги, ...</td>\n",
       "      <td>RE: Запрос пароля Миронова Татьяна</td>\n",
       "    </tr>\n",
       "    <tr>\n",
       "      <th>4</th>\n",
       "      <td>Доступ на диск N Добрый день,  Прошу поделить...</td>\n",
       "      <td>RE: доступ к папке на диске N</td>\n",
       "    </tr>\n",
       "    <tr>\n",
       "      <th>...</th>\n",
       "      <td>...</td>\n",
       "      <td>...</td>\n",
       "    </tr>\n",
       "    <tr>\n",
       "      <th>2010</th>\n",
       "      <td>заблокирована учетная запись у USER ID RUBOYT...</td>\n",
       "      <td>RE: Заблокирована учётная запись</td>\n",
       "    </tr>\n",
       "    <tr>\n",
       "      <th>2011</th>\n",
       "      <td>Re:  Добрый день. Все тоже самое. Пишет не ве...</td>\n",
       "      <td>RE:</td>\n",
       "    </tr>\n",
       "    <tr>\n",
       "      <th>2012</th>\n",
       "      <td>Приложение для извлечения архива RAR Добрый д...</td>\n",
       "      <td>RE: Поддержка для открытия файла.</td>\n",
       "    </tr>\n",
       "    <tr>\n",
       "      <th>2013</th>\n",
       "      <td>Изменение пароляImportance: High Коллеги, доб...</td>\n",
       "      <td>RE: не успела сменить пароль</td>\n",
       "    </tr>\n",
       "    <tr>\n",
       "      <th>2014</th>\n",
       "      <td>Не работает корпоративный телефон Добрый день...</td>\n",
       "      <td>RE: Анонимный звонок</td>\n",
       "    </tr>\n",
       "  </tbody>\n",
       "</table>\n",
       "<p>2015 rows × 2 columns</p>\n",
       "</div>"
      ],
      "text/plain": [
       "                                                      q  \\\n",
       "0      Об установке сертификата Webaccessagent ssl Д...   \n",
       "1      смена пароля Добрый день. Просьба помочь прой...   \n",
       "2      Сброс пароля_КайзероваImportance: High Добрый...   \n",
       "3      RE: Новый консультант Карен Гумеров Коллеги, ...   \n",
       "4      Доступ на диск N Добрый день,  Прошу поделить...   \n",
       "...                                                 ...   \n",
       "2010   заблокирована учетная запись у USER ID RUBOYT...   \n",
       "2011   Re:  Добрый день. Все тоже самое. Пишет не ве...   \n",
       "2012   Приложение для извлечения архива RAR Добрый д...   \n",
       "2013   Изменение пароляImportance: High Коллеги, доб...   \n",
       "2014   Не работает корпоративный телефон Добрый день...   \n",
       "\n",
       "                                                      a  \n",
       "0              RE: Вопрос по работе веб-агента Directum  \n",
       "1     RE: Не дает сменить пароль, сегодня последний ...  \n",
       "2     RE: смена фамилии - Ткаченко на Авилову в ЦПБ ...  \n",
       "3                    RE: Запрос пароля Миронова Татьяна  \n",
       "4                         RE: доступ к папке на диске N  \n",
       "...                                                 ...  \n",
       "2010                   RE: Заблокирована учётная запись  \n",
       "2011                                               RE:   \n",
       "2012                  RE: Поддержка для открытия файла.  \n",
       "2013                       RE: не успела сменить пароль  \n",
       "2014                              RE: Анонимный звонок   \n",
       "\n",
       "[2015 rows x 2 columns]"
      ]
     },
     "execution_count": 77,
     "metadata": {},
     "output_type": "execute_result"
    }
   ],
   "source": [
    "df"
   ]
  }
 ],
 "metadata": {
  "kernelspec": {
   "display_name": ".venv",
   "language": "python",
   "name": "python3"
  },
  "language_info": {
   "codemirror_mode": {
    "name": "ipython",
    "version": 3
   },
   "file_extension": ".py",
   "mimetype": "text/x-python",
   "name": "python",
   "nbconvert_exporter": "python",
   "pygments_lexer": "ipython3",
   "version": "3.11.9"
  }
 },
 "nbformat": 4,
 "nbformat_minor": 2
}
