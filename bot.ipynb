{
 "cells": [
  {
   "cell_type": "code",
   "execution_count": 195,
   "metadata": {},
   "outputs": [],
   "source": [
    "# %pip install pywin32\n",
    "# %pip install openpyxl\n",
    "# %pip install schedule"
   ]
  },
  {
   "cell_type": "code",
   "execution_count": 196,
   "metadata": {},
   "outputs": [],
   "source": [
    "import win32com.client\n",
    "\n",
    "outlook = win32com.client.Dispatch(\"Outlook.Application\")\n",
    "namespace = outlook.GetNamespace(\"MAPI\")\n",
    "inbox = namespace.Folders(\"RU: Service Desk, RUSSIA\").Folders(\"Входящие\")\n",
    "#namespace.GetDefaultFolder(6)"
   ]
  },
  {
   "cell_type": "code",
   "execution_count": 197,
   "metadata": {},
   "outputs": [
    {
     "name": "stdout",
     "output_type": "stream",
     "text": [
      "Тема: смена учетной записи, От: Khismatullina,Elina,RU-Moscow, Дата: 2024-12-24 13:15:37.593000+00:00\n"
     ]
    }
   ],
   "source": [
    "# Получаем сообщения из папки \"Входящие\"\n",
    "messages = inbox.Items\n",
    "messages.sort(\"[ReceivedTime]\", True)\n",
    "\n",
    "# Проверяем, есть ли непрочитанные письма\n",
    "# unread_count = sum(1 for message in messages if message.Unread)\n",
    "# print(f\"Количество непрочитанных сообщений: {unread_count}\")\n",
    "\n",
    "message = messages[0]\n",
    "print(f\"Тема: {message.Subject}, От: {message.SenderName}, Дата: {message.ReceivedTime}\")\n"
   ]
  },
  {
   "cell_type": "code",
   "execution_count": 198,
   "metadata": {},
   "outputs": [],
   "source": [
    "import pandas as pd\n",
    "from sentence_transformers import SentenceTransformer\n",
    "\n",
    "model = SentenceTransformer(\"./sentence_bert_service_desk_model_finetuned\")\n",
    "df = pd.read_excel(\"TEMPLATES.xlsx\")\n",
    "\n",
    "answers = df[\"Текст\"].tolist()\n",
    "link_names = df[\"Название ссылки\"].tolist()\n",
    "links = df[\"Ссылка\"].tolist()\n",
    "\n",
    "answer_embeddings = model.encode(answers)"
   ]
  },
  {
   "cell_type": "code",
   "execution_count": 199,
   "metadata": {},
   "outputs": [],
   "source": [
    "import numpy as np\n",
    "from sklearn.metrics.pairwise import cosine_similarity\n",
    "\n",
    "\n",
    "def generate_reply(input_text, answer_embeddings, threshold=0.3):\n",
    "    question_embedding = model.encode(input_text)\n",
    "    similarity_matrix = cosine_similarity(\n",
    "        question_embedding.reshape(1, -1), answer_embeddings\n",
    "    )[0]\n",
    "    # print(similarity_matrix)\n",
    "\n",
    "    # Вычисляем медиану и межквартильный размах (IQR)\n",
    "    median_similarity = np.median(similarity_matrix)\n",
    "    q1 = np.percentile(similarity_matrix, 25)\n",
    "    q3 = np.percentile(similarity_matrix, 75)\n",
    "    iqr = q3 - q1\n",
    "\n",
    "    # Устанавливаем порог как медиана + 1.5 * IQR\n",
    "    threshold = max(median_similarity + 1.25 * iqr, threshold)\n",
    "    valid_answers = [\n",
    "        (sim, ans, link, link_name)\n",
    "        for sim, ans, link, link_name in zip(\n",
    "            similarity_matrix, answers, links, link_names\n",
    "        )\n",
    "        if sim > threshold\n",
    "    ]\n",
    "    if len(valid_answers) == 1:\n",
    "        response = \"<p>Добрый день!</p>\"\n",
    "        response += f\"<p>{valid_answers[0][1]}<br><a href='{valid_answers[0][2]}'>{valid_answers[0][3]}</a></p>\"\n",
    "        response += \"<p><i>Искренне ваш,<br/><u>ServiceBot</u>, самый бездушный сотрудник Service Desk.</i></p>\"\n",
    "        return response\n",
    "    elif len(valid_answers) > 1:\n",
    "        valid_answers.sort(reverse=True, key=lambda x: x[0])\n",
    "        top_answers = valid_answers[:3]\n",
    "\n",
    "        response = \"<p>Добрый день!</p>\"\n",
    "        response += \"<p>Наш робот не смог найти точный ответ на ваш запрос. Скорее всего, вам подойдёт один из ответов ниже:</p>\"\n",
    "        response += \"<ul>\"\n",
    "\n",
    "        for _, answer, link, link_name in top_answers:\n",
    "            response += f\"<li>{answer}<br/><a href='{link}'>{link_name}</a></li>\"\n",
    "\n",
    "        response += \"</ul>\"\n",
    "        response += \"<p><i>Искренне ваш,<br/><u>ServiceBot</u>, самый бездушный сотрудник Service Desk.</i></p>\"\n",
    "        return response.strip()\n",
    "    else:\n",
    "        # print(\"No answer found\")\n",
    "        return \"-1\""
   ]
  },
  {
   "cell_type": "code",
   "execution_count": 200,
   "metadata": {},
   "outputs": [],
   "source": [
    "banned_subjects = [\n",
    "    \"RE:\",\n",
    "    \"FWD:\",\n",
    "    \"INC\",\n",
    "    \"REQ\",\n",
    "    \"Recall:\",\n",
    "    \"Undeliverable:\",\n",
    "    \"Notification\",\n",
    "]\n",
    "banned_senders = [\n",
    "    \"RuPull@nestlesoft.net\",\n",
    "    \"Microsoft Outlook\",\n",
    "    \"ELMA365\",\n",
    "    \"Nestle Service-Now\",\n",
    "]"
   ]
  },
  {
   "cell_type": "code",
   "execution_count": 201,
   "metadata": {},
   "outputs": [],
   "source": [
    "import json\n",
    "from datetime import datetime\n",
    "\n",
    "# Для теста будем запоминать пользователей + темы писем\n",
    "testing_bag = set() # Убрать на проде\n",
    "def check_inbox():\n",
    "    outlook = win32com.client.Dispatch(\"Outlook.Application\")\n",
    "    namespace = outlook.GetNamespace(\"MAPI\")\n",
    "    inbox = namespace.Folders(\"RU: Service Desk, RUSSIA\").Folders(\"Входящие\")\n",
    "    messages = inbox.Items\n",
    "    messages.sort(\"[ReceivedTime]\", True)\n",
    "    # Читаем последние 100 сообщений\n",
    "    for i in range(100):\n",
    "        message = messages[i]\n",
    "        # Если message -- действительно сообщение, а не всякое там\n",
    "        if message.Class == 43:\n",
    "            is_not_banned_sender = not any(\n",
    "                banned_sender in message.SenderName for banned_sender in banned_senders\n",
    "            )\n",
    "            is_not_banned_subject = not any(\n",
    "                banned_subject in message.Subject for banned_subject in banned_subjects\n",
    "            )\n",
    "            if (\n",
    "                message.Unread\n",
    "                and is_not_banned_sender\n",
    "                and is_not_banned_subject\n",
    "                and (message.SenderName, message.Subject) not in testing_bag # Убрать на проде\n",
    "            ):\n",
    "                process_message(message)\n",
    "                testing_bag.add((message.SenderName, message.Subject)) # Убрать на проде\n",
    "\n",
    "\n",
    "def process_message(message):\n",
    "    msg = message.Subject + \" \" + message.Body\n",
    "    reply = generate_reply(msg, answer_embeddings, 0.3)\n",
    "    # Логирование\n",
    "    if True:\n",
    "        log_entry = {\"query\": msg, \"answers\": [{\"text\": reply, \"label\": \"\"}]}\n",
    "        log_file_path = \"message_log.txt\"\n",
    "        with open(log_file_path, \"a\", encoding=\"utf-8\") as log_file:\n",
    "            log_file.write(json.dumps(log_entry, ensure_ascii=False) + \"\\n\")\n",
    "    if reply != \"-1\":\n",
    "        send_reply(message, reply)\n",
    "\n",
    "\n",
    "def send_reply(original_message, reply_body):\n",
    "    reply = original_message.Reply()\n",
    "    reply.To = \"RUPostamAt1@ru.nestle.com\"\n",
    "    reply.Subject = \"Re: \" + original_message.Subject\n",
    "    original_head = f\"<p><b>From:</b> {original_message.SenderName} <br><b>Sent:</b> {original_message.ReceivedTime}<br><b>To:</b> {message.To}<br><b>Subject:</b> {original_message.Subject}</p>\"\n",
    "    original_body = original_message.HTMLBody\n",
    "    reply.HTMLBody = f\"<p><font size='3'>{reply_body}</font></p><br/><hr/>{original_head}{original_body}\"\n",
    "    reply.Send()\n",
    "    \n",
    "    # Оставляем непрочитанным - True, помечаем как прочитанное - False\n",
    "    original_message.Unread = True\n",
    "    original_message.Save()"
   ]
  },
  {
   "cell_type": "code",
   "execution_count": 202,
   "metadata": {},
   "outputs": [],
   "source": [
    "check_inbox()"
   ]
  },
  {
   "cell_type": "code",
   "execution_count": 203,
   "metadata": {},
   "outputs": [
    {
     "name": "stdout",
     "output_type": "stream",
     "text": [
      "13:17:35.418585\n",
      "13:17:36.179819\n"
     ]
    },
    {
     "ename": "KeyboardInterrupt",
     "evalue": "",
     "output_type": "error",
     "traceback": [
      "\u001b[1;31m---------------------------------------------------------------------------\u001b[0m",
      "\u001b[1;31mKeyboardInterrupt\u001b[0m                         Traceback (most recent call last)",
      "Cell \u001b[1;32mIn[203], line 21\u001b[0m\n\u001b[0;32m     19\u001b[0m \u001b[38;5;28;01mwhile\u001b[39;00m \u001b[38;5;28;01mTrue\u001b[39;00m:\n\u001b[0;32m     20\u001b[0m     schedule\u001b[38;5;241m.\u001b[39mrun_pending()\n\u001b[1;32m---> 21\u001b[0m     \u001b[43mtime\u001b[49m\u001b[38;5;241;43m.\u001b[39;49m\u001b[43msleep\u001b[49m\u001b[43m(\u001b[49m\u001b[38;5;241;43m1\u001b[39;49m\u001b[43m)\u001b[49m\n",
      "\u001b[1;31mKeyboardInterrupt\u001b[0m: "
     ]
    }
   ],
   "source": [
    "import schedule\n",
    "import time\n",
    "\n",
    "# Должен быть открыт Outlook\n",
    "# check_inbox()\n",
    "def job():\n",
    "    current_time = datetime.now().time()\n",
    "    if (\n",
    "        current_time >= datetime.strptime(\"07:00\", \"%H:%M\").time()\n",
    "        and current_time <= datetime.strptime(\"20:00\", \"%H:%M\").time()\n",
    "    ):\n",
    "        check_inbox()\n",
    "        print(datetime.now().time())\n",
    "\n",
    "\n",
    "# Запуск функции job каждые 5 минут\n",
    "schedule.every(5).minutes.do(job)\n",
    "\n",
    "while True:\n",
    "    schedule.run_pending()\n",
    "    time.sleep(1)"
   ]
  }
 ],
 "metadata": {
  "kernelspec": {
   "display_name": ".venv",
   "language": "python",
   "name": "python3"
  },
  "language_info": {
   "codemirror_mode": {
    "name": "ipython",
    "version": 3
   },
   "file_extension": ".py",
   "mimetype": "text/x-python",
   "name": "python",
   "nbconvert_exporter": "python",
   "pygments_lexer": "ipython3",
   "version": "3.12.6"
  }
 },
 "nbformat": 4,
 "nbformat_minor": 2
}
